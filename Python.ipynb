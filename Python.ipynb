{
 "cells": [
  {
   "cell_type": "code",
   "execution_count": 1,
   "metadata": {},
   "outputs": [
    {
     "name": "stdout",
     "output_type": "stream",
     "text": [
      "lava = 2\n",
      "kusha = 1\n"
     ]
    }
   ],
   "source": [
    "#count of names without inbuilt functions\n",
    "text = \"lava kusha lava\"\n",
    "words = []\n",
    "current_word = \"\"\n",
    "for char in text:\n",
    "    if char == \" \":\n",
    "        if current_word:\n",
    "            words.append(current_word)\n",
    "            current_word = \"\"\n",
    "    else:\n",
    "        current_word += char\n",
    "if current_word:  \n",
    "    words.append(current_word)\n",
    "\n",
    "count_dict = {}\n",
    "\n",
    "for word in words:\n",
    "    if word in count_dict:\n",
    "        count_dict[word] += 1\n",
    "    else:\n",
    "        count_dict[word] = 1\n",
    "\n",
    "for word, count in count_dict.items():\n",
    "    print(f\"{word} = {count}\")\n"
   ]
  },
  {
   "cell_type": "code",
   "execution_count": null,
   "metadata": {},
   "outputs": [
    {
     "name": "stdout",
     "output_type": "stream",
     "text": [
      "Fibonacci sequence:\n",
      "0 1 1 2 3 5 8 13 21 34 "
     ]
    }
   ],
   "source": [
    "#Fibonacci sequence\n",
    "n = 10\n",
    "\n",
    "a, b = 0, 1\n",
    "print(\"Fibonacci sequence:\")\n",
    "for i in range(n):\n",
    "    print(a, end=\" \")\n",
    "    c = a +b\n",
    "    a = b\n",
    "    b = c\n"
   ]
  },
  {
   "cell_type": "code",
   "execution_count": 2,
   "metadata": {},
   "outputs": [
    {
     "name": "stdout",
     "output_type": "stream",
     "text": [
      "-10 is negative number\n"
     ]
    }
   ],
   "source": [
    "# postive or negative numbar\n",
    "n=-10\n",
    "if n>0:\n",
    "    print(f\"{n} is postive number\")\n",
    "elif n==0:\n",
    "    print(\"Number is 0\")\n",
    "else:\n",
    "    print(f\"{n} is negative number\")"
   ]
  },
  {
   "cell_type": "code",
   "execution_count": 8,
   "metadata": {},
   "outputs": [
    {
     "name": "stdout",
     "output_type": "stream",
     "text": [
      "even number\n"
     ]
    }
   ],
   "source": [
    "#even or odd\n",
    "n=4\n",
    "print(\"even number\") if (n%2==0) else print(\"odd number\")\n"
   ]
  },
  {
   "cell_type": "code",
   "execution_count": null,
   "metadata": {},
   "outputs": [
    {
     "name": "stdout",
     "output_type": "stream",
     "text": [
      "15\n",
      "15.0\n"
     ]
    }
   ],
   "source": [
    "#Sum of First N Natural numbers:\n",
    "n=5\n",
    "sum=0\n",
    "\n",
    "#using for loop\n",
    "for i in range(n+1):\n",
    "    sum=sum+i\n",
    "print(sum)\n",
    "\n",
    "#using formala\n",
    "print(int(n*(n+1))/2)"
   ]
  },
  {
   "cell_type": "code",
   "execution_count": 4,
   "metadata": {},
   "outputs": [
    {
     "name": "stdout",
     "output_type": "stream",
     "text": [
      "45\n"
     ]
    }
   ],
   "source": [
    "#Sum of numbers in a given range: \n",
    "sum=0\n",
    "n1=5\n",
    "n2=10\n",
    "for i in range(n1,n2+1):\n",
    "    sum=sum+i\n",
    "print(sum)"
   ]
  },
  {
   "cell_type": "code",
   "execution_count": null,
   "metadata": {},
   "outputs": [
    {
     "data": {
      "text/plain": [
       "20"
      ]
     },
     "execution_count": 3,
     "metadata": {},
     "output_type": "execute_result"
    }
   ],
   "source": [
    "#Write a function to calculate the factorial of a number.\n",
    "def factorial(n):\n",
    "    if n == 0:\n",
    "        return 1\n",
    "    return n * factorial(n - 1)\n",
    "\n",
    "num = 5\n",
    "print(f\"Factorial of {num} is {factorial(num)}\")\n",
    "    "
   ]
  },
  {
   "cell_type": "code",
   "execution_count": 7,
   "metadata": {},
   "outputs": [
    {
     "name": "stdout",
     "output_type": "stream",
     "text": [
      "[1, 10, 2, 9, 3, 8, 4, 7, 5, 6]\n"
     ]
    }
   ],
   "source": [
    "input=[1,2,3,4,5,6,7,8,9,10]\n",
    "# Output [1, 10, 2, 9, 3, 8, 4, 7, 5, 6]\n",
    "\n",
    "left=0\n",
    "right=len(input)-1\n",
    "result=[]\n",
    "while left <= right:\n",
    "    if left==right:\n",
    "        result.append(input[left])\n",
    "    else:\n",
    "        result.append(input[left])\n",
    "        result.append(input[right])\n",
    "    left+=1\n",
    "    right-=1\n",
    "\n",
    "print(result)"
   ]
  },
  {
   "cell_type": "code",
   "execution_count": 14,
   "metadata": {},
   "outputs": [
    {
     "name": "stdout",
     "output_type": "stream",
     "text": [
      "gnirts nevig si sihT\n"
     ]
    }
   ],
   "source": [
    "#Write a function to reverse a string.\n",
    "string=\"This is given string\"\n",
    "reversed_string=\"\"\n",
    "\n",
    "for char in string:\n",
    "    reversed_string=char+reversed_string\n",
    "\n",
    "print(reversed_string)"
   ]
  },
  {
   "cell_type": "code",
   "execution_count": 22,
   "metadata": {},
   "outputs": [
    {
     "name": "stdout",
     "output_type": "stream",
     "text": [
      "string given is This \n"
     ]
    }
   ],
   "source": [
    "##Write a function to reverse a word.\n",
    "string=\"This is given string\"\n",
    "reversed_string=\"\"\n",
    "word=\"\"\n",
    "for char in string+\" \":\n",
    "    if char != \" \":\n",
    "        word+=char\n",
    "    else:\n",
    "        if word:\n",
    "            reversed_string=word+\" \"+reversed_string\n",
    "            word=\"\"\n",
    "\n",
    "print(reversed_string)"
   ]
  },
  {
   "cell_type": "code",
   "execution_count": null,
   "metadata": {},
   "outputs": [
    {
     "data": {
      "text/plain": [
       "True"
      ]
     },
     "execution_count": 41,
     "metadata": {},
     "output_type": "execute_result"
    }
   ],
   "source": [
    "#Implement a function to check if a string is a palindrome.\n",
    "\n",
    "def str_palindrome(string):\n",
    "    clean_str=\"\"\n",
    "    \n",
    "    for char in string:\n",
    "        if char.isalnum():\n",
    "            clean_str=clean_str+char.lower()\n",
    "    \n",
    "    left=0\n",
    "    right=len(clean_str)-1\n",
    "    \n",
    "    while left<right:\n",
    "        if clean_str[left]!=clean_str[right]:\n",
    "            return False\n",
    "        left=+1\n",
    "        right=-1\n",
    "    return True\n",
    "\n",
    "str_palindrome(\"abba\")"
   ]
  },
  {
   "cell_type": "code",
   "execution_count": 47,
   "metadata": {},
   "outputs": [
    {
     "name": "stdout",
     "output_type": "stream",
     "text": [
      "True\n",
      "False\n"
     ]
    }
   ],
   "source": [
    "#Implement a function to check if a number is a palindrome.\n",
    "def num_palindrome(n):\n",
    "    temp=n\n",
    "    rev_num=0\n",
    "    while n>0:\n",
    "        digit=n%10\n",
    "        rev_num=rev_num*10+digit\n",
    "        n=n//10\n",
    "    if rev_num==temp:\n",
    "        return True\n",
    "    else:\n",
    "        return False\n",
    "    \n",
    "    \n",
    "    \n",
    "print(num_palindrome(121))\n",
    "print(num_palindrome(1421))"
   ]
  },
  {
   "cell_type": "code",
   "execution_count": 49,
   "metadata": {},
   "outputs": [
    {
     "name": "stdout",
     "output_type": "stream",
     "text": [
      "Largest number is 9\n"
     ]
    }
   ],
   "source": [
    "#Write a function to find the largest number in an array.\n",
    "numbers=[1,2,3,5,6,4,9,8,7]\n",
    "\n",
    "largest=numbers[0]\n",
    "\n",
    "for num in numbers:\n",
    "    if num>largest:\n",
    "        largest=num\n",
    "\n",
    "print(f'Largest number is {largest}')"
   ]
  },
  {
   "cell_type": "code",
   "execution_count": 56,
   "metadata": {},
   "outputs": [
    {
     "name": "stdout",
     "output_type": "stream",
     "text": [
      "120\n"
     ]
    }
   ],
   "source": [
    "#Write a function to calculate the factorial of a number.\n",
    "def fact(n):\n",
    "    result=1\n",
    "    for i in range(1,n+1):\n",
    "        result=result*i\n",
    "    return result\n",
    "    \n",
    "print(fact(5))"
   ]
  },
  {
   "cell_type": "code",
   "execution_count": 5,
   "metadata": {},
   "outputs": [
    {
     "name": "stdout",
     "output_type": "stream",
     "text": [
      "2 prime number\n"
     ]
    }
   ],
   "source": [
    "# Write a function to check if a number is prime.\n",
    "def prime(n):\n",
    "    if n<=1:\n",
    "        print(f\"{n} is not Prime Number\")\n",
    "    \n",
    "    for i in range(2,(n//2)+1):\n",
    "        if (n%i)==0:\n",
    "            print(f\"{n} is not Prime Number\")\n",
    "            break\n",
    "    else:\n",
    "        print(f'{n} prime number')\n",
    "        \n",
    "\n",
    "        \n",
    "prime(2)"
   ]
  },
  {
   "cell_type": "code",
   "execution_count": 2,
   "metadata": {},
   "outputs": [
    {
     "name": "stdout",
     "output_type": "stream",
     "text": [
      "[1, 2, 2, 5, 6, 4, 4]\n",
      "[1, 2, 5, 6, 4]\n"
     ]
    }
   ],
   "source": [
    "#Write a function to remove duplicates from an array.\n",
    "array=[1,2,2,5,6,4,4]\n",
    "result=[]\n",
    "\n",
    "for i in array:\n",
    "    if i not in result:\n",
    "        result.append(i)\n",
    "\n",
    "\n",
    "print(array)\n",
    "print(result)"
   ]
  },
  {
   "cell_type": "code",
   "execution_count": 17,
   "metadata": {},
   "outputs": [
    {
     "name": "stdout",
     "output_type": "stream",
     "text": [
      "a : 1\n",
      "e : 1\n"
     ]
    }
   ],
   "source": [
    "#Write a function to count the vowels in a string.\n",
    "vowels=['a','e','i','o','u']\n",
    "string='name'\n",
    "v_dict={}\n",
    "for char in string.lower():\n",
    "    if char in vowels:\n",
    "        v_dict[char] = v_dict.get(char, 0) + 1\n",
    "for v,count in v_dict.items():\n",
    "    print(f'{v} : {count}')"
   ]
  },
  {
   "cell_type": "code",
   "execution_count": 24,
   "metadata": {},
   "outputs": [
    {
     "name": "stdout",
     "output_type": "stream",
     "text": [
      "missing number is 3\n"
     ]
    }
   ],
   "source": [
    "#Implement a function to find the missing number in an array of 1 to n.\n",
    "def missing_number(arr,n):\n",
    "    sum_arr=sum(arr)\n",
    "    expected_sum=(n*(n+1))//2\n",
    "    print(f'missing number is {expected_sum-sum_arr}')\n",
    "    \n",
    "        \n",
    "        \n",
    "    \n",
    "arr = [1, 2, 4, 5, 6]\n",
    "n = 6\n",
    "missing_number(arr,n)"
   ]
  },
  {
   "cell_type": "code",
   "execution_count": 30,
   "metadata": {},
   "outputs": [
    {
     "name": "stdout",
     "output_type": "stream",
     "text": [
      "[1, 2, 3, 4, 5, 6, 7, 8, 9, 10]\n"
     ]
    }
   ],
   "source": [
    "#Write a function to merge two sorted arrays.\n",
    "\n",
    "def merge_array(arr1,arr2):\n",
    "    merged_array=[]\n",
    "    i,j=0,0\n",
    "    len_arr1,len_arr2=len(arr1),len(arr2)\n",
    "    \n",
    "    while i<len_arr1 and j <len_arr2:\n",
    "        if arr1[i]<arr2[j]:\n",
    "            merged_array.append(arr1[i])\n",
    "            i=i+1\n",
    "        else:\n",
    "            merged_array.append(arr2[j])\n",
    "            j=j+1\n",
    "    \n",
    "    while i<len_arr1:\n",
    "        merged_array.append(arr1[i])\n",
    "        i=i+1\n",
    "    while j< len_arr2:\n",
    "        merged_array.append(arr2[j])\n",
    "        j=j+1\n",
    "    \n",
    "    print(merged_array)\n",
    "arr1=[1,2,3,4,5]\n",
    "arr2=[6,7,8,9,10]\n",
    "\n",
    "merge_array(arr1,arr2)"
   ]
  },
  {
   "cell_type": "code",
   "execution_count": 34,
   "metadata": {},
   "outputs": [
    {
     "name": "stdout",
     "output_type": "stream",
     "text": [
      "maximum difference between two elements in the arr : 17\n"
     ]
    }
   ],
   "source": [
    "#Write a function to find the maximum difference between two elements in an array.\n",
    "\n",
    "def max_def(arr):\n",
    "    max=arr[0]\n",
    "    min=arr[0]\n",
    "    \n",
    "    for num in arr:\n",
    "        if num> max:\n",
    "            max=num\n",
    "        if num<min:\n",
    "            min=num\n",
    "    print(f'maximum difference between two elements in the arr : {max-min}')\n",
    "    \n",
    "arr = [-10, -5, 0, 7, -3]\n",
    "max_def(arr)"
   ]
  }
 ],
 "metadata": {
  "kernelspec": {
   "display_name": "Python 3",
   "language": "python",
   "name": "python3"
  },
  "language_info": {
   "codemirror_mode": {
    "name": "ipython",
    "version": 3
   },
   "file_extension": ".py",
   "mimetype": "text/x-python",
   "name": "python",
   "nbconvert_exporter": "python",
   "pygments_lexer": "ipython3",
   "version": "3.11.4"
  }
 },
 "nbformat": 4,
 "nbformat_minor": 2
}
